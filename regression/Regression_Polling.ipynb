{
 "cells": [
  {
   "cell_type": "code",
   "execution_count": null,
   "metadata": {
    "collapsed": true
   },
   "outputs": [],
   "source": [
    "%matplotlib inline"
   ]
  },
  {
   "cell_type": "code",
   "execution_count": null,
   "metadata": {
    "collapsed": true
   },
   "outputs": [],
   "source": [
    "from sklearn import linear_model\n",
    "import matplotlib.pyplot as plt\n",
    "import matplotlib as mpl\n",
    "from sklearn.linear_model import LogisticRegression\n",
    "import numpy as np\n",
    "import pandas\n",
    "\n",
    "data = pandas.read_csv(\"PollingData_Imputed.csv\")"
   ]
  },
  {
   "cell_type": "code",
   "execution_count": null,
   "metadata": {
    "collapsed": false
   },
   "outputs": [],
   "source": [
    "train.head()"
   ]
  },
  {
   "cell_type": "code",
   "execution_count": null,
   "metadata": {
    "collapsed": false
   },
   "outputs": [],
   "source": [
    "train = data.query(\"Year==2004 or Year==2008\")\n",
    "test = data.query(\"Year==2012\")\n",
    "test.head()"
   ]
  },
  {
   "cell_type": "code",
   "execution_count": null,
   "metadata": {
    "collapsed": false
   },
   "outputs": [],
   "source": [
    "from pandas.tools.plotting import scatter_matrix\n",
    "scatter_matrix(train, alpha=0.2, figsize=(12, 12), diagonal='kde')"
   ]
  },
  {
   "cell_type": "code",
   "execution_count": null,
   "metadata": {
    "collapsed": false
   },
   "outputs": [],
   "source": [
    "mpl.rcParams['figure.figsize'] = 12,4\n",
    "\n",
    "# Create linear regression object\n",
    "regr = LogisticRegression()\n",
    "single_predictor = \"PropR\"\n",
    "train_data = train.loc[:,[single_predictor]]\n",
    "test_data = test.loc[:,[single_predictor]]\n",
    "regr.fit(train_data, train[\"Republican\"])\n",
    "\n",
    "# Plot outputs\n",
    "plt.scatter(train[single_predictor], train[\"Republican\"],  color='black')\n",
    "proba = []\n",
    "for p in regr.predict_proba(train.loc[:,[single_predictor]]):\n",
    "    proba.append(p[1])\n",
    "\n",
    "plt.scatter(train[single_predictor], proba, color='blue',linewidth=1)\n",
    "plt.show()\n",
    "\n",
    "predict = regr.predict(test_data)\n",
    "predict_df = pandas.DataFrame({\"real\":test[\"Republican\"],\"predict\":predict})\n",
    "predict_df[\"acc\"] = predict_df[\"real\"] == predict_df[\"predict\"]\n",
    "predict_df.query(\"acc == False\") "
   ]
  },
  {
   "cell_type": "code",
   "execution_count": null,
   "metadata": {
    "collapsed": false
   },
   "outputs": [],
   "source": [
    "mul_predictor = [\"Rasmussen\",\"DiffCount\"]\n",
    "train_data = train.loc[:,mul_predictor]\n",
    "test_data = test.loc[:,mul_predictor]\n",
    "regr.fit(train_data, train[\"Republican\"])\n",
    "\n",
    "predict = regr.predict(test_data)\n",
    "predict_df = pandas.DataFrame({\"real\":test[\"Republican\"],\"predict\":predict})\n",
    "predict_df[\"acc\"] = predict_df[\"real\"] == predict_df[\"predict\"]\n",
    "predict_df.query(\"acc == False\")"
   ]
  }
 ],
 "metadata": {
  "kernelspec": {
   "display_name": "Python 2",
   "language": "python",
   "name": "python2"
  },
  "language_info": {
   "codemirror_mode": {
    "name": "ipython",
    "version": 2
   },
   "file_extension": ".py",
   "mimetype": "text/x-python",
   "name": "python",
   "nbconvert_exporter": "python",
   "pygments_lexer": "ipython2",
   "version": "2.7.11"
  }
 },
 "nbformat": 4,
 "nbformat_minor": 0
}
